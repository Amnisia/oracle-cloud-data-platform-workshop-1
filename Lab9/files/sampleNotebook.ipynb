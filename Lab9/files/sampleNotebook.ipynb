{
 "cells": [
  {
   "cell_type": "markdown",
   "metadata": {},
   "source": [
    "***\n",
    "# <font color=red>Fraud Detection Prediction Using OCI Data Science Platform</font>\n",
    "<p style=\"margin-left:10%; margin-right:10%;\"></p>\n",
    "\n",
    "***"
   ]
  },
  {
   "cell_type": "markdown",
   "metadata": {},
   "source": [
    "## Modules:\n",
    "\n",
    "- <a href='#AutoML'>1. Build a ML Model Using AutoML in Oracle ADS (Accelerated Data Science)</a>\n",
    "- <a href='#Sklearn'>2. Build a ML Model Using Scikit-Learn (Open Source)</a>\n",
    "- <a href='#ModelCatalog'>3. (Bonus) Save Models To Oracle Model Catalog </a>\n",
    "- <a href='#ADB'>4. (Bonus) Create an ADB Connection</a>"
   ]
  },
  {
   "cell_type": "markdown",
   "metadata": {},
   "source": [
    "<a id='AutoML'></a>\n",
    "## Build a ML Model Using AutoML in ADS (Accelerated Data Science)"
   ]
  },
  {
   "cell_type": "markdown",
   "metadata": {},
   "source": [
    "### Loading Necessary Libraries And Datasets"
   ]
  },
  {
   "cell_type": "code",
   "execution_count": 1,
   "metadata": {},
   "outputs": [
    {
     "data": {
      "text/html": [
       "\n",
       "                <div style=\"padding: 7px;\n",
       "                            border-radius: 4px;\n",
       "                            background-color: #d4ecd9;\n",
       "                            margin_bottom: 5px;\">\n",
       "                    <p>You can call <code>ads.environment.ads_inspect.check_ads_env()</code> to check if the version of the libraries in the current environment conflicts with ADS dependencies.</p>\n",
       "                </div>\n",
       "\n",
       "                "
      ],
      "text/plain": [
       "<IPython.core.display.HTML object>"
      ]
     },
     "metadata": {},
     "output_type": "display_data"
    },
    {
     "name": "stderr",
     "output_type": "stream",
     "text": [
      "Using TensorFlow backend.\n"
     ]
    }
   ],
   "source": [
    "%matplotlib inline\n",
    "\n",
    "import logging\n",
    "logging.basicConfig(format='%(levelname)s:%(message)s', level=logging.ERROR)\n",
    "\n",
    "from ads.dataset.dataset_browser import DatasetBrowser\n",
    "from ads.automl.provider import OracleAutoMLProvider\n",
    "from ads.automl.driver import AutoML"
   ]
  },
  {
   "cell_type": "code",
   "execution_count": 2,
   "metadata": {},
   "outputs": [],
   "source": [
    "import pandas as pd\n",
    "\n",
    "df = pd.read_csv('sampleDataset.csv')\n",
    "df = df[['fraudFlag','AGE', 'INCOME', 'EDUCATION_LEVEL', 'merchantType', 'OCCUPATION', 'CREDIT_SCORE_BIN', 'MARITAL_STATUS', 'amount', 'latitude', 'longitude', 'CUSTOMER_ID']]"
   ]
  },
  {
   "cell_type": "code",
   "execution_count": 3,
   "metadata": {},
   "outputs": [
    {
     "name": "stdout",
     "output_type": "stream",
     "text": [
      "the dataset is clean\n"
     ]
    },
    {
     "data": {
      "application/vnd.jupyter.widget-view+json": {
       "model_id": "",
       "version_major": 2,
       "version_minor": 0
      },
      "text/plain": [
       "HBox(children=(IntProgress(value=0, description='loop1', max=4, style=ProgressStyle(description_width='initial…"
      ]
     },
     "metadata": {},
     "output_type": "display_data"
    },
    {
     "data": {
      "text/html": [
       "\n",
       "            <br>\n",
       "\n",
       "            <div style=\"width: calc(100% -20px);\n",
       "                        border-left: 8px solid #588864;\n",
       "                        margin: 10px, 0, 10px, 0px;\n",
       "                        padding: 10px\">\n",
       "\n",
       "                \n",
       "                <p>Sampling (from 172216 rows) to 10000 rows for graphing</p>\n",
       "                \n",
       "            </div>\n",
       "\n",
       "            "
      ],
      "text/plain": [
       "<IPython.core.display.HTML object>"
      ]
     },
     "metadata": {},
     "output_type": "display_data"
    },
    {
     "data": {
      "text/html": [
       "\n",
       "                <div style=\"padding: 7px;\n",
       "                            border-radius: 4px;\n",
       "                            background-color: #d4ecd9;\n",
       "                            margin_bottom: 5px;\">\n",
       "                    <p><b>TIP:</b><br>&nbsp;&nbsp;+&nbsp;Use <code>show_in_notebook()</code> to visualize the dataset.<br>&nbsp;&nbsp;+&nbsp;Use <code>suggest_recommendations()</code> to view and apply recommendations for dataset optimization.</p>\n",
       "                </div>\n",
       "\n",
       "                "
      ],
      "text/plain": [
       "<IPython.core.display.HTML object>"
      ]
     },
     "metadata": {},
     "output_type": "display_data"
    },
    {
     "name": "stdout",
     "output_type": "stream",
     "text": [
      "\r"
     ]
    }
   ],
   "source": [
    "from ads.dataset.factory import DatasetFactory\n",
    "\n",
    "df.sample(frac=1)\n",
    "test = df.loc[:5000]\n",
    "train = df.loc[5000:]\n",
    "\n",
    "try:\n",
    "    train.drop('Unnamed: 0', axis = 1, inplace = True)\n",
    "    test.drop('Unnamed: 0', axis = 1, inplace = True)\n",
    "except:\n",
    "    train.dropna(how='any', axis = 0)\n",
    "    test.dropna(how='any', axis =0)\n",
    "    print('the dataset is clean')\n",
    "    \n",
    "train = DatasetFactory.open(train, target=\"fraudFlag\")"
   ]
  },
  {
   "cell_type": "markdown",
   "metadata": {},
   "source": [
    "### Viewing the dataset and suggesting EDA using ADS "
   ]
  },
  {
   "cell_type": "code",
   "execution_count": 4,
   "metadata": {},
   "outputs": [
    {
     "data": {
      "application/vnd.jupyter.widget-view+json": {
       "model_id": "cbaf6c5c22f24739924359539e4d5078",
       "version_major": 2,
       "version_minor": 0
      },
      "text/plain": [
       "Accordion(children=(HTML(value='<h1>Name: DataFrame</h1><h3>Type: BinaryClassificationDataset</h3><h3>172,216 …"
      ]
     },
     "metadata": {},
     "output_type": "display_data"
    }
   ],
   "source": [
    "train.show_in_notebook()"
   ]
  },
  {
   "cell_type": "code",
   "execution_count": 5,
   "metadata": {},
   "outputs": [
    {
     "data": {
      "text/html": [
       "\n",
       "                <div style=\"padding: 7px;\n",
       "                            border-radius: 4px;\n",
       "                            background-color: #d4ecd9;\n",
       "                            margin_bottom: 5px;\">\n",
       "                    <p><b>TIP:</b><br>&nbsp;&nbsp;+&nbsp;Suggested columns to drop: ['CREDIT_SCORE_BIN', 'INCOME', 'CUSTOMER_ID']<br>&nbsp;&nbsp;+&nbsp;Suggested columns to impute: {'AGE': 63.0, 'INCOME': 2750.0, 'EDUCATION_LEVEL': \"Bachelor's Degree\", 'OCCUPATION': 'Professional', 'MARITAL_STATUS': 'Married'}<br>&nbsp;&nbsp;+&nbsp;Others: No more!</p>\n",
       "                </div>\n",
       "\n",
       "                "
      ],
      "text/plain": [
       "<IPython.core.display.HTML object>"
      ]
     },
     "metadata": {},
     "output_type": "display_data"
    },
    {
     "data": {
      "text/html": [
       "<div>\n",
       "<style scoped>\n",
       "    .dataframe tbody tr th:only-of-type {\n",
       "        vertical-align: middle;\n",
       "    }\n",
       "\n",
       "    .dataframe tbody tr th {\n",
       "        vertical-align: top;\n",
       "    }\n",
       "\n",
       "    .dataframe thead th {\n",
       "        text-align: right;\n",
       "    }\n",
       "</style>\n",
       "<table border=\"1\" class=\"dataframe\">\n",
       "  <thead>\n",
       "    <tr style=\"text-align: right;\">\n",
       "      <th></th>\n",
       "      <th></th>\n",
       "      <th></th>\n",
       "      <th></th>\n",
       "      <th>Code</th>\n",
       "    </tr>\n",
       "    <tr>\n",
       "      <th>Message</th>\n",
       "      <th>Variables</th>\n",
       "      <th>Suggested</th>\n",
       "      <th>Action</th>\n",
       "      <th></th>\n",
       "    </tr>\n",
       "  </thead>\n",
       "  <tbody>\n",
       "    <tr>\n",
       "      <th rowspan=\"4\" valign=\"top\">Contains missing values(99)</th>\n",
       "      <th rowspan=\"4\" valign=\"top\">AGE</th>\n",
       "      <th rowspan=\"4\" valign=\"top\">Fill missing values with frequent</th>\n",
       "      <th>Drop</th>\n",
       "      <td>.drop_columns([\"AGE\"])</td>\n",
       "    </tr>\n",
       "    <tr>\n",
       "      <th>Fill missing values with frequent</th>\n",
       "      <td>.fillna({\"AGE\": 63.0})</td>\n",
       "    </tr>\n",
       "    <tr>\n",
       "      <th>Fill missing values with constant</th>\n",
       "      <td>.fillna({\"AGE\": \"constant\"})</td>\n",
       "    </tr>\n",
       "    <tr>\n",
       "      <th>Do nothing</th>\n",
       "      <td></td>\n",
       "    </tr>\n",
       "    <tr>\n",
       "      <th rowspan=\"4\" valign=\"top\">Contains missing values(133)</th>\n",
       "      <th rowspan=\"4\" valign=\"top\">INCOME</th>\n",
       "      <th rowspan=\"4\" valign=\"top\">Fill missing values with frequent</th>\n",
       "      <th>Drop</th>\n",
       "      <td>.drop_columns([\"INCOME\"])</td>\n",
       "    </tr>\n",
       "    <tr>\n",
       "      <th>Fill missing values with frequent</th>\n",
       "      <td>.fillna({\"INCOME\": 2750.0})</td>\n",
       "    </tr>\n",
       "    <tr>\n",
       "      <th>Fill missing values with constant</th>\n",
       "      <td>.fillna({\"INCOME\": \"constant\"})</td>\n",
       "    </tr>\n",
       "    <tr>\n",
       "      <th>Do nothing</th>\n",
       "      <td></td>\n",
       "    </tr>\n",
       "    <tr>\n",
       "      <th rowspan=\"4\" valign=\"top\">Contains missing values(127)</th>\n",
       "      <th rowspan=\"4\" valign=\"top\">EDUCATION_LEVEL</th>\n",
       "      <th rowspan=\"4\" valign=\"top\">Fill missing values with frequent</th>\n",
       "      <th>Drop</th>\n",
       "      <td>.drop_columns([\"EDUCATION_LEVEL\"])</td>\n",
       "    </tr>\n",
       "    <tr>\n",
       "      <th>Fill missing values with frequent</th>\n",
       "      <td>.fillna({\"EDUCATION_LEVEL\": \"Bachelo...</td>\n",
       "    </tr>\n",
       "    <tr>\n",
       "      <th>Fill missing values with constant</th>\n",
       "      <td>.fillna({\"EDUCATION_LEVEL\": \"constan...</td>\n",
       "    </tr>\n",
       "    <tr>\n",
       "      <th>Do nothing</th>\n",
       "      <td></td>\n",
       "    </tr>\n",
       "    <tr>\n",
       "      <th rowspan=\"4\" valign=\"top\">Contains missing values(125)</th>\n",
       "      <th rowspan=\"4\" valign=\"top\">OCCUPATION</th>\n",
       "      <th rowspan=\"4\" valign=\"top\">Fill missing values with frequent</th>\n",
       "      <th>Drop</th>\n",
       "      <td>.drop_columns([\"OCCUPATION\"])</td>\n",
       "    </tr>\n",
       "    <tr>\n",
       "      <th>Fill missing values with frequent</th>\n",
       "      <td>.fillna({\"OCCUPATION\": \"Professional\"})</td>\n",
       "    </tr>\n",
       "    <tr>\n",
       "      <th>Fill missing values with constant</th>\n",
       "      <td>.fillna({\"OCCUPATION\": \"constant\"})</td>\n",
       "    </tr>\n",
       "    <tr>\n",
       "      <th>Do nothing</th>\n",
       "      <td></td>\n",
       "    </tr>\n",
       "    <tr>\n",
       "      <th rowspan=\"4\" valign=\"top\">Contains missing values(135)</th>\n",
       "      <th rowspan=\"4\" valign=\"top\">MARITAL_STATUS</th>\n",
       "      <th rowspan=\"4\" valign=\"top\">Fill missing values with frequent</th>\n",
       "      <th>Drop</th>\n",
       "      <td>.drop_columns([\"MARITAL_STATUS\"])</td>\n",
       "    </tr>\n",
       "    <tr>\n",
       "      <th>Fill missing values with frequent</th>\n",
       "      <td>.fillna({\"MARITAL_STATUS\": \"Married\"})</td>\n",
       "    </tr>\n",
       "    <tr>\n",
       "      <th>Fill missing values with constant</th>\n",
       "      <td>.fillna({\"MARITAL_STATUS\": \"constant\"})</td>\n",
       "    </tr>\n",
       "    <tr>\n",
       "      <th>Do nothing</th>\n",
       "      <td></td>\n",
       "    </tr>\n",
       "    <tr>\n",
       "      <th rowspan=\"3\" valign=\"top\">Strongly correlated with CUSTOMER_ID(98.86%.)</th>\n",
       "      <th rowspan=\"3\" valign=\"top\">CREDIT_SCORE_BIN</th>\n",
       "      <th rowspan=\"3\" valign=\"top\">Drop CREDIT_SCORE_BIN</th>\n",
       "      <th>Drop CREDIT_SCORE_BIN</th>\n",
       "      <td>.drop_columns([\"CREDIT_SCORE_BIN\"])</td>\n",
       "    </tr>\n",
       "    <tr>\n",
       "      <th>Drop CUSTOMER_ID</th>\n",
       "      <td>.drop_columns([\"CUSTOMER_ID\"])</td>\n",
       "    </tr>\n",
       "    <tr>\n",
       "      <th>Do nothing</th>\n",
       "      <td></td>\n",
       "    </tr>\n",
       "    <tr>\n",
       "      <th rowspan=\"3\" valign=\"top\">Strongly correlated with INCOME(99.32%.)</th>\n",
       "      <th rowspan=\"3\" valign=\"top\">CUSTOMER_ID</th>\n",
       "      <th rowspan=\"3\" valign=\"top\">Drop INCOME</th>\n",
       "      <th>Drop CUSTOMER_ID</th>\n",
       "      <td>.drop_columns([\"CUSTOMER_ID\"])</td>\n",
       "    </tr>\n",
       "    <tr>\n",
       "      <th>Drop INCOME</th>\n",
       "      <td>.drop_columns([\"INCOME\"])</td>\n",
       "    </tr>\n",
       "    <tr>\n",
       "      <th>Do nothing</th>\n",
       "      <td></td>\n",
       "    </tr>\n",
       "    <tr>\n",
       "      <th rowspan=\"3\" valign=\"top\">Strongly correlated with CUSTOMER_ID(99.41%.)</th>\n",
       "      <th rowspan=\"3\" valign=\"top\">AGE</th>\n",
       "      <th rowspan=\"3\" valign=\"top\">Drop CUSTOMER_ID</th>\n",
       "      <th>Drop AGE</th>\n",
       "      <td>.drop_columns([\"AGE\"])</td>\n",
       "    </tr>\n",
       "    <tr>\n",
       "      <th>Drop CUSTOMER_ID</th>\n",
       "      <td>.drop_columns([\"CUSTOMER_ID\"])</td>\n",
       "    </tr>\n",
       "    <tr>\n",
       "      <th>Do nothing</th>\n",
       "      <td></td>\n",
       "    </tr>\n",
       "    <tr>\n",
       "      <th rowspan=\"3\" valign=\"top\">Imbalanced Target(0.89%)</th>\n",
       "      <th rowspan=\"3\" valign=\"top\">fraudFlag</th>\n",
       "      <th rowspan=\"3\" valign=\"top\">Do nothing</th>\n",
       "      <th>Do nothing</th>\n",
       "      <td></td>\n",
       "    </tr>\n",
       "    <tr>\n",
       "      <th>Down-sample</th>\n",
       "      <td>.down_sample()</td>\n",
       "    </tr>\n",
       "    <tr>\n",
       "      <th>Up-sample</th>\n",
       "      <td>.up_sample(sampler=None)</td>\n",
       "    </tr>\n",
       "  </tbody>\n",
       "</table>\n",
       "</div>"
      ],
      "text/plain": [
       "                                                                                                                                                                  Code\n",
       "Message                                  Variables        Suggested                         Action                                                                    \n",
       "Contains missing values(99)              AGE              Fill missing values with frequent Drop                                                .drop_columns([\"AGE\"])\n",
       "                                                                                            Fill missing values with frequent                   .fillna({\"AGE\": 63.0})\n",
       "                                                                                            Fill missing values with constant             .fillna({\"AGE\": \"constant\"})\n",
       "                                                                                            Do nothing                                                                \n",
       "Contains missing values(133)             INCOME           Fill missing values with frequent Drop                                             .drop_columns([\"INCOME\"])\n",
       "                                                                                            Fill missing values with frequent              .fillna({\"INCOME\": 2750.0})\n",
       "                                                                                            Fill missing values with constant          .fillna({\"INCOME\": \"constant\"})\n",
       "                                                                                            Do nothing                                                                \n",
       "Contains missing values(127)             EDUCATION_LEVEL  Fill missing values with frequent Drop                                    .drop_columns([\"EDUCATION_LEVEL\"])\n",
       "                                                                                            Fill missing values with frequent  .fillna({\"EDUCATION_LEVEL\": \"Bachelo...\n",
       "                                                                                            Fill missing values with constant  .fillna({\"EDUCATION_LEVEL\": \"constan...\n",
       "                                                                                            Do nothing                                                                \n",
       "Contains missing values(125)             OCCUPATION       Fill missing values with frequent Drop                                         .drop_columns([\"OCCUPATION\"])\n",
       "                                                                                            Fill missing values with frequent  .fillna({\"OCCUPATION\": \"Professional\"})\n",
       "                                                                                            Fill missing values with constant      .fillna({\"OCCUPATION\": \"constant\"})\n",
       "                                                                                            Do nothing                                                                \n",
       "Contains missing values(135)             MARITAL_STATUS   Fill missing values with frequent Drop                                     .drop_columns([\"MARITAL_STATUS\"])\n",
       "                                                                                            Fill missing values with frequent   .fillna({\"MARITAL_STATUS\": \"Married\"})\n",
       "                                                                                            Fill missing values with constant  .fillna({\"MARITAL_STATUS\": \"constant\"})\n",
       "                                                                                            Do nothing                                                                \n",
       "Strongly correlated with CUSTOMER_ID(... CREDIT_SCORE_BIN Drop CREDIT_SCORE_BIN             Drop CREDIT_SCORE_BIN                  .drop_columns([\"CREDIT_SCORE_BIN\"])\n",
       "                                                                                            Drop CUSTOMER_ID                            .drop_columns([\"CUSTOMER_ID\"])\n",
       "                                                                                            Do nothing                                                                \n",
       "Strongly correlated with INCOME(99.32%.) CUSTOMER_ID      Drop INCOME                       Drop CUSTOMER_ID                            .drop_columns([\"CUSTOMER_ID\"])\n",
       "                                                                                            Drop INCOME                                      .drop_columns([\"INCOME\"])\n",
       "                                                                                            Do nothing                                                                \n",
       "Strongly correlated with CUSTOMER_ID(... AGE              Drop CUSTOMER_ID                  Drop AGE                                            .drop_columns([\"AGE\"])\n",
       "                                                                                            Drop CUSTOMER_ID                            .drop_columns([\"CUSTOMER_ID\"])\n",
       "                                                                                            Do nothing                                                                \n",
       "Imbalanced Target(0.89%)                 fraudFlag        Do nothing                        Do nothing                                                                \n",
       "                                                                                            Down-sample                                                 .down_sample()\n",
       "                                                                                            Up-sample                                         .up_sample(sampler=None)"
      ]
     },
     "execution_count": 5,
     "metadata": {},
     "output_type": "execute_result"
    }
   ],
   "source": [
    "train.suggest_recommendations()"
   ]
  },
  {
   "cell_type": "code",
   "execution_count": 6,
   "metadata": {},
   "outputs": [],
   "source": [
    "def transform(ds):\n",
    "    #define a function to apply the transform changes suggested above\n",
    "    new_ds = ds.down_sample()\n",
    "    return new_ds\n",
    "\n",
    "\n",
    "transformed_train = transform(train)"
   ]
  },
  {
   "cell_type": "code",
   "execution_count": 7,
   "metadata": {},
   "outputs": [
    {
     "data": {
      "text/plain": [
       "True     1434\n",
       "False    1434\n",
       "Name: fraudFlag, dtype: int64"
      ]
     },
     "execution_count": 7,
     "metadata": {},
     "output_type": "execute_result"
    }
   ],
   "source": [
    "# make sure data is balanced\n",
    "\n",
    "transformed_train['fraudFlag'].value_counts().compute()"
   ]
  },
  {
   "cell_type": "code",
   "execution_count": 8,
   "metadata": {},
   "outputs": [
    {
     "data": {
      "application/vnd.jupyter.widget-view+json": {
       "model_id": "",
       "version_major": 2,
       "version_minor": 0
      },
      "text/plain": [
       "HBox(children=(IntProgress(value=0, description='loop1', max=4, style=ProgressStyle(description_width='initial…"
      ]
     },
     "metadata": {},
     "output_type": "display_data"
    },
    {
     "data": {
      "text/html": [
       "\n",
       "            <br>\n",
       "\n",
       "            <div style=\"width: calc(100% -20px);\n",
       "                        border-left: 8px solid #588864;\n",
       "                        margin: 10px, 0, 10px, 0px;\n",
       "                        padding: 10px\">\n",
       "\n",
       "                \n",
       "                <p>Using entire dataset for graphing (5001 rows)</p>\n",
       "                \n",
       "            </div>\n",
       "\n",
       "            "
      ],
      "text/plain": [
       "<IPython.core.display.HTML object>"
      ]
     },
     "metadata": {},
     "output_type": "display_data"
    },
    {
     "data": {
      "text/html": [
       "\n",
       "                <div style=\"padding: 7px;\n",
       "                            border-radius: 4px;\n",
       "                            background-color: #d4ecd9;\n",
       "                            margin_bottom: 5px;\">\n",
       "                    <p><b>TIP:</b><br>&nbsp;&nbsp;+&nbsp;Use <code>show_in_notebook()</code> to visualize the dataset.<br>&nbsp;&nbsp;+&nbsp;Use <code>suggest_recommendations()</code> to view and apply recommendations for dataset optimization.</p>\n",
       "                </div>\n",
       "\n",
       "                "
      ],
      "text/plain": [
       "<IPython.core.display.HTML object>"
      ]
     },
     "metadata": {},
     "output_type": "display_data"
    },
    {
     "name": "stdout",
     "output_type": "stream",
     "text": [
      "\r"
     ]
    }
   ],
   "source": [
    "#transforming test dataset as well\n",
    "\n",
    "features = train.columns.to_list()\n",
    "test = test[features]\n",
    "test = DatasetFactory.open(test, target=\"fraudFlag\")\n",
    "\n",
    "transformed_test = transform(test)"
   ]
  },
  {
   "cell_type": "markdown",
   "metadata": {},
   "source": [
    "### Create an instance of OracleAutoMLProvider and Train AutoML\n",
    "\n",
    "The Oracle AutoML solution automatically provides a tuned ML pipeline that best models the given a training dataset and a prediction task at hand. Here the dataset can be any supervised prediction task, e.g. classification or regression where the target can be a simple binary or a multi-class value or a real valued column in a table, respectively).\n",
    "\n",
    "The Oracle AutoML solution is selected using the `OracleAutoMLProvider` object that delegates model training to the AutoML package.\n",
    "\n",
    "AutoML consists three main modules \n",
    "- Algorithm Selection - Identify the right algorithm for a given dataset, choosing from amongst\n",
    "    - AdaBoostClassifier\n",
    "    - DecisionTreeClassifier\n",
    "    - ExtraTreesClassifier\n",
    "    - KNeighborsClassifier\n",
    "    - LGBMClassifier\n",
    "    - LinearSVC\n",
    "    - LogisticRegression\n",
    "    - RandomForestClassifier\n",
    "    - SVC\n",
    "    - XGBClassifier\n",
    "- Adaptive Sampling - Choose the right subset of samples for evaluation, trying to balance classes at the same time\n",
    "- Feature Selection - Choose the right set of features that maximize score for the chosen algorithm\n",
    "- Hyperparameter Tuning - Find the right model parameters that maximize score for the given dataset. \n",
    "\n",
    "All these pieces are readily combined into a simple AutoML pipeline which automates the entire Machine Learning process with minimal user input/interaction.\n",
    "\n",
    "The OracleAutoMLProvider class supports 2 arguments:\n",
    "- n_jobs: Specifies the degree of parallelism for Oracle AutoML. -1 (default) means that AutoML will use all available cores.\n",
    "- loglevel: The verbosity of output for Oracle AutoML. Can be specified using the Python logging module (https://docs.python.org/3/library/logging.html#logging-levels).\n",
    "    \n",
    "We create an OracleAutoMLProvider object that uses all available cores, and disable any logging."
   ]
  },
  {
   "cell_type": "code",
   "execution_count": 9,
   "metadata": {},
   "outputs": [
    {
     "data": {
      "text/html": [
       "\n",
       "            <br>\n",
       "\n",
       "            <div style=\"width: calc(100% -20px);\n",
       "                        border-left: 8px solid #588864;\n",
       "                        margin: 10px, 0, 10px, 0px;\n",
       "                        padding: 10px\">\n",
       "\n",
       "                <div style=\"padding: 5px;\n",
       "                            color: #588864;\n",
       "                            border_bottom: 1px solid grey;\n",
       "                            margin_bottom: 5px;\">\n",
       "                    <h2>AUTOML</h2>\n",
       "                </div>\n",
       "                <p><h2>NOTE: With 4 cores available for training on 2868 rows with 11 features please consider</h2><br>                - using a larger VM Shape<br>                - sampling the data to be smaller<br>                - using the time_budget feature to reduce training size<br>                - using the model_list to restrict the algorithms<br><br>            AutoML Training (OracleAutoMLProvider)</p>\n",
       "                \n",
       "            </div>\n",
       "\n",
       "            "
      ],
      "text/plain": [
       "<IPython.core.display.HTML object>"
      ]
     },
     "metadata": {},
     "output_type": "display_data"
    },
    {
     "data": {
      "text/html": [
       "\n",
       "                <div style=\"padding: 7px;\n",
       "                            border-radius: 4px;\n",
       "                            background-color: #d4ecd9;\n",
       "                            margin_bottom: 5px;\">\n",
       "                    <p>Training complete (64.39 seconds)</p>\n",
       "                </div>\n",
       "\n",
       "                "
      ],
      "text/plain": [
       "<IPython.core.display.HTML object>"
      ]
     },
     "metadata": {},
     "output_type": "display_data"
    },
    {
     "data": {
      "text/html": [
       "<table border=\"1\" class=\"dataframe\">\n",
       "  <tbody>\n",
       "    <tr>\n",
       "      <td>Training Dataset size</td>\n",
       "      <td>(2868, 11)</td>\n",
       "    </tr>\n",
       "    <tr>\n",
       "      <td>Validation Dataset size</td>\n",
       "      <td>None</td>\n",
       "    </tr>\n",
       "    <tr>\n",
       "      <td>CV</td>\n",
       "      <td>5</td>\n",
       "    </tr>\n",
       "    <tr>\n",
       "      <td>Target variable</td>\n",
       "      <td>fraudFlag</td>\n",
       "    </tr>\n",
       "    <tr>\n",
       "      <td>Optimization Metric</td>\n",
       "      <td>neg_log_loss</td>\n",
       "    </tr>\n",
       "    <tr>\n",
       "      <td>Initial number of Features</td>\n",
       "      <td>11</td>\n",
       "    </tr>\n",
       "    <tr>\n",
       "      <td>Selected number of Features</td>\n",
       "      <td>11</td>\n",
       "    </tr>\n",
       "    <tr>\n",
       "      <td>Selected Features</td>\n",
       "      <td>[AGE, INCOME, EDUCATION_LEVEL, merchantType, OCCUPATION, CREDIT_SCORE_BIN, MARITAL_STATUS, amount, latitude, longitude, CUSTOMER_ID]</td>\n",
       "    </tr>\n",
       "    <tr>\n",
       "      <td>Selected Algorithm</td>\n",
       "      <td>XGBClassifier</td>\n",
       "    </tr>\n",
       "    <tr>\n",
       "      <td>End-to-end Elapsed Time (seconds)</td>\n",
       "      <td>64.39</td>\n",
       "    </tr>\n",
       "    <tr>\n",
       "      <td>Selected Hyperparameters</td>\n",
       "      <td>{'booster': 'gbtree', 'class_weight': 'balanced', 'learning_rate': 0.1, 'max_depth': 7, 'min_child_weight': 1, 'n_estimators': 100, 'reg_alpha': 0, 'reg_lambda': 1}</td>\n",
       "    </tr>\n",
       "    <tr>\n",
       "      <td>Mean Validation Score</td>\n",
       "      <td>-0.1919</td>\n",
       "    </tr>\n",
       "    <tr>\n",
       "      <td>AutoML n_jobs</td>\n",
       "      <td>2</td>\n",
       "    </tr>\n",
       "    <tr>\n",
       "      <td>AutoML version</td>\n",
       "      <td>0.4.2</td>\n",
       "    </tr>\n",
       "    <tr>\n",
       "      <td>Python version</td>\n",
       "      <td>3.6.10 |Anaconda custom (64-bit)| (default, May  8 2020, 02:54:21) \\n[GCC 7.3.0]</td>\n",
       "    </tr>\n",
       "  </tbody>\n",
       "</table>"
      ],
      "text/plain": [
       "<IPython.core.display.HTML object>"
      ]
     },
     "metadata": {},
     "output_type": "display_data"
    },
    {
     "data": {
      "text/html": [
       "<table border=\"1\" class=\"dataframe\">\n",
       "  <thead>\n",
       "    <tr style=\"text-align: right;\">\n",
       "      <th>Rank based on Performance</th>\n",
       "      <th>Algorithm</th>\n",
       "      <th>#Samples</th>\n",
       "      <th>#Features</th>\n",
       "      <th>Mean Validation Score</th>\n",
       "      <th>Hyperparameters</th>\n",
       "      <th>CPU Time</th>\n",
       "    </tr>\n",
       "  </thead>\n",
       "  <tbody>\n",
       "    <tr>\n",
       "      <td>2</td>\n",
       "      <td>XGBClassifier_HT</td>\n",
       "      <td>2868</td>\n",
       "      <td>11</td>\n",
       "      <td>-0.1939</td>\n",
       "      <td>{'booster': 'gbtree', 'class_weight': 'balanced', 'learning_rate': 0.1, 'max_depth': 5, 'min_child_weight': 1, 'n_estimators': 100, 'reg_alpha': 0, 'reg_lambda': 1}</td>\n",
       "      <td>1.6753</td>\n",
       "    </tr>\n",
       "    <tr>\n",
       "      <td>3</td>\n",
       "      <td>XGBClassifier_HT</td>\n",
       "      <td>2868</td>\n",
       "      <td>11</td>\n",
       "      <td>-0.1945</td>\n",
       "      <td>{'booster': 'gbtree', 'class_weight': 'balanced', 'learning_rate': 0.1, 'max_depth': 6, 'min_child_weight': 1, 'n_estimators': 100, 'reg_alpha': 0, 'reg_lambda': 1}</td>\n",
       "      <td>2.1714</td>\n",
       "    </tr>\n",
       "    <tr>\n",
       "      <td>4</td>\n",
       "      <td>XGBClassifier_HT</td>\n",
       "      <td>2868</td>\n",
       "      <td>11</td>\n",
       "      <td>-0.1959</td>\n",
       "      <td>{'booster': 'gbtree', 'class_weight': 'balanced', 'learning_rate': 0.1, 'max_depth': 3, 'min_child_weight': 1, 'n_estimators': 276, 'reg_alpha': 0, 'reg_lambda': 1}</td>\n",
       "      <td>2.9626</td>\n",
       "    </tr>\n",
       "    <tr>\n",
       "      <td>5</td>\n",
       "      <td>XGBClassifier_HT</td>\n",
       "      <td>2868</td>\n",
       "      <td>11</td>\n",
       "      <td>-0.1960</td>\n",
       "      <td>{'booster': 'gbtree', 'class_weight': 'balanced', 'learning_rate': 0.1, 'max_depth': 3, 'min_child_weight': 1, 'n_estimators': 275, 'reg_alpha': 0, 'reg_lambda': 1}</td>\n",
       "      <td>3.0098</td>\n",
       "    </tr>\n",
       "    <tr>\n",
       "      <td>6</td>\n",
       "      <td>XGBClassifier_HT</td>\n",
       "      <td>2868</td>\n",
       "      <td>11</td>\n",
       "      <td>-0.2127</td>\n",
       "      <td>{'booster': 'gbtree', 'class_weight': 'balanced', 'learning_rate': 0.1, 'max_depth': 4, 'min_child_weight': 1, 'n_estimators': 100, 'reg_alpha': 0, 'reg_lambda': 1}</td>\n",
       "      <td>1.4603</td>\n",
       "    </tr>\n",
       "    <tr>\n",
       "      <td>...</td>\n",
       "      <td>...</td>\n",
       "      <td>...</td>\n",
       "      <td>...</td>\n",
       "      <td>...</td>\n",
       "      <td>...</td>\n",
       "      <td>...</td>\n",
       "    </tr>\n",
       "    <tr>\n",
       "      <td>66</td>\n",
       "      <td>XGBClassifier_HT</td>\n",
       "      <td>2868</td>\n",
       "      <td>11</td>\n",
       "      <td>-0.6875</td>\n",
       "      <td>{'booster': 'gbtree', 'class_weight': 'balanced', 'learning_rate': 0.000109999, 'max_depth': 3, 'min_child_weight': 1, 'n_estimators': 100, 'reg_alpha': 0, 'reg_lambda': 1}</td>\n",
       "      <td>1.1581</td>\n",
       "    </tr>\n",
       "    <tr>\n",
       "      <td>67</td>\n",
       "      <td>XGBClassifier_HT</td>\n",
       "      <td>2868</td>\n",
       "      <td>11</td>\n",
       "      <td>-0.6905</td>\n",
       "      <td>{'booster': 'gbtree', 'class_weight': None, 'learning_rate': 0.000119998, 'max_depth': 2, 'min_child_weight': 0, 'n_estimators': 50, 'reg_alpha': 0.0, 'reg_lambda': 0.0}</td>\n",
       "      <td>0.4158</td>\n",
       "    </tr>\n",
       "    <tr>\n",
       "      <td>68</td>\n",
       "      <td>XGBClassifier_HT</td>\n",
       "      <td>2868</td>\n",
       "      <td>11</td>\n",
       "      <td>-0.6907</td>\n",
       "      <td>{'booster': 'gbtree', 'class_weight': None, 'learning_rate': 0.000109999, 'max_depth': 2, 'min_child_weight': 0, 'n_estimators': 50, 'reg_alpha': 0.0, 'reg_lambda': 0.0}</td>\n",
       "      <td>0.4161</td>\n",
       "    </tr>\n",
       "    <tr>\n",
       "      <td>69</td>\n",
       "      <td>XGBClassifier_HT</td>\n",
       "      <td>2868</td>\n",
       "      <td>11</td>\n",
       "      <td>-0.6909</td>\n",
       "      <td>{'booster': 'dart', 'class_weight': None, 'learning_rate': 0.0001, 'max_depth': 2, 'min_child_weight': 0, 'n_estimators': 50, 'reg_alpha': 0.0, 'reg_lambda': 0.0}</td>\n",
       "      <td>0.5764</td>\n",
       "    </tr>\n",
       "    <tr>\n",
       "      <td>70</td>\n",
       "      <td>XGBClassifier_HT</td>\n",
       "      <td>2868</td>\n",
       "      <td>11</td>\n",
       "      <td>-0.6909</td>\n",
       "      <td>{'booster': 'gbtree', 'class_weight': None, 'learning_rate': 0.0001, 'max_depth': 2, 'min_child_weight': 0, 'n_estimators': 50, 'reg_alpha': 0.0, 'reg_lambda': 0.0}</td>\n",
       "      <td>0.4406</td>\n",
       "    </tr>\n",
       "  </tbody>\n",
       "</table>"
      ],
      "text/plain": [
       "<IPython.core.display.HTML object>"
      ]
     },
     "metadata": {},
     "output_type": "display_data"
    }
   ],
   "source": [
    "ml_engine = OracleAutoMLProvider(n_jobs=-1, loglevel=logging.ERROR)\n",
    "\n",
    "from sklearn.metrics import make_scorer, f1_score, fbeta_score\n",
    "\n",
    "oracle_automl = AutoML(transformed_train, provider=ml_engine)\n",
    "\n",
    "#short-list a ML family and specify a time budget (60 seconds in this case, make longer in typical use cases)\n",
    "automl_xgb, baseline = oracle_automl.train(model_list=['XGBClassifier'], time_budget=60)"
   ]
  },
  {
   "cell_type": "code",
   "execution_count": 10,
   "metadata": {},
   "outputs": [
    {
     "data": {
      "text/html": [
       "<table border=\"1\" class=\"dataframe\">\n",
       "  <thead>\n",
       "    <tr style=\"text-align: right;\">\n",
       "      <th>Algorithm</th>\n",
       "      <th>#Samples</th>\n",
       "      <th>#Features</th>\n",
       "      <th>Mean Validation Score</th>\n",
       "      <th>Hyperparameters</th>\n",
       "      <th>CPU Time</th>\n",
       "    </tr>\n",
       "  </thead>\n",
       "  <tbody>\n",
       "    <tr>\n",
       "      <td>XGBClassifier_HT</td>\n",
       "      <td>2868</td>\n",
       "      <td>11</td>\n",
       "      <td>-0.1919</td>\n",
       "      <td>{'booster': 'gbtree', 'class_weight': 'balanced', 'learning_rate': 0.1, 'max_depth': 7, 'min_child_weight': 1, 'n_estimators': 100, 'reg_alpha': 0, 'reg_lambda': 1}</td>\n",
       "      <td>2.5640</td>\n",
       "    </tr>\n",
       "    <tr>\n",
       "      <td>XGBClassifier_HT</td>\n",
       "      <td>2868</td>\n",
       "      <td>11</td>\n",
       "      <td>-0.1939</td>\n",
       "      <td>{'booster': 'gbtree', 'class_weight': 'balanced', 'learning_rate': 0.1, 'max_depth': 5, 'min_child_weight': 1, 'n_estimators': 100, 'reg_alpha': 0, 'reg_lambda': 1}</td>\n",
       "      <td>1.6753</td>\n",
       "    </tr>\n",
       "    <tr>\n",
       "      <td>...</td>\n",
       "      <td>...</td>\n",
       "      <td>...</td>\n",
       "      <td>...</td>\n",
       "      <td>...</td>\n",
       "      <td>...</td>\n",
       "    </tr>\n",
       "    <tr>\n",
       "      <td>XGBClassifier_HT</td>\n",
       "      <td>2868</td>\n",
       "      <td>11</td>\n",
       "      <td>-0.6909</td>\n",
       "      <td>{'booster': 'dart', 'class_weight': None, 'learning_rate': 0.0001, 'max_depth': 2, 'min_child_weight': 0, 'n_estimators': 50, 'reg_alpha': 0.0, 'reg_lambda': 0.0}</td>\n",
       "      <td>0.5764</td>\n",
       "    </tr>\n",
       "    <tr>\n",
       "      <td>XGBClassifier_HT</td>\n",
       "      <td>2868</td>\n",
       "      <td>11</td>\n",
       "      <td>-0.6909</td>\n",
       "      <td>{'booster': 'gbtree', 'class_weight': None, 'learning_rate': 0.0001, 'max_depth': 2, 'min_child_weight': 0, 'n_estimators': 50, 'reg_alpha': 0.0, 'reg_lambda': 0.0}</td>\n",
       "      <td>0.4406</td>\n",
       "    </tr>\n",
       "  </tbody>\n",
       "</table>"
      ],
      "text/plain": [
       "<IPython.core.display.HTML object>"
      ]
     },
     "metadata": {},
     "output_type": "display_data"
    }
   ],
   "source": [
    "oracle_automl.print_trials(max_rows=5, sort_column='Mean Validation Score')"
   ]
  },
  {
   "cell_type": "code",
   "execution_count": 11,
   "metadata": {},
   "outputs": [
    {
     "data": {
      "image/png": "[encoded data removed]",
      "text/plain": [
       "<Figure size 432x216 with 1 Axes>"
      ]
     },
     "metadata": {
      "needs_background": "light"
     },
     "output_type": "display_data"
    }
   ],
   "source": [
    "oracle_automl.visualize_adaptive_sampling_trials()"
   ]
  },
  {
   "cell_type": "code",
   "execution_count": 12,
   "metadata": {},
   "outputs": [
    {
     "data": {
      "image/png": "[encoded data removed]",
      "text/plain": [
       "<Figure size 432x216 with 1 Axes>"
      ]
     },
     "metadata": {
      "needs_background": "light"
     },
     "output_type": "display_data"
    }
   ],
   "source": [
    "oracle_automl.visualize_feature_selection_trials()"
   ]
  },
  {
   "cell_type": "code",
   "execution_count": 13,
   "metadata": {},
   "outputs": [
    {
     "data": {
      "image/png": "[encoded data removed]",
      "text/plain": [
       "<Figure size 432x216 with 1 Axes>"
      ]
     },
     "metadata": {
      "needs_background": "light"
     },
     "output_type": "display_data"
    }
   ],
   "source": [
    "oracle_automl.visualize_tuning_trials()"
   ]
  },
  {
   "cell_type": "markdown",
   "metadata": {},
   "source": [
    "<a id='eval'></a>\n",
    "## Compare different generated models\n",
    "A model trained using AutoML can easily be deployed into production, as it behaves similar to any standard Machine Learning model. We now evaluate the model on unseen data stored in test. We rename each of the generated AutoML models making them easier to visualize. \n",
    "We use ADSEvaluator to visualize behavior for each of the models on the test set, including the baseline."
   ]
  },
  {
   "cell_type": "code",
   "execution_count": 14,
   "metadata": {},
   "outputs": [
    {
     "data": {
      "text/html": [
       "\n",
       "                <div style=\"padding: 7px;\n",
       "                            border-radius: 4px;\n",
       "                            background-color: #d4ecd9;\n",
       "                            margin_bottom: 5px;\">\n",
       "                    <p>No positive class set, so we will assume that True is the positive class. To change this, recreate the evaluator object with the parameter positive_class</p>\n",
       "                </div>\n",
       "\n",
       "                "
      ],
      "text/plain": [
       "<IPython.core.display.HTML object>"
      ]
     },
     "metadata": {},
     "output_type": "display_data"
    },
    {
     "data": {
      "text/html": [
       "\n",
       "                <div style=\"padding: 7px;\n",
       "                            border-radius: 4px;\n",
       "                            background-color: #d4ecd9;\n",
       "                            margin_bottom: 5px;\">\n",
       "                    <p>Pass the argument <code>show_full_name = True</code> to the ADSEvaluator to show the full argument of this model</p>\n",
       "                </div>\n",
       "\n",
       "                "
      ],
      "text/plain": [
       "<IPython.core.display.HTML object>"
      ]
     },
     "metadata": {},
     "output_type": "display_data"
    },
    {
     "data": {
      "text/html": [
       "\n",
       "            <br>\n",
       "\n",
       "            <div style=\"width: calc(100% -20px);\n",
       "                        border-left: 8px solid #588864;\n",
       "                        margin: 10px, 0, 10px, 0px;\n",
       "                        padding: 10px\">\n",
       "\n",
       "                \n",
       "                <p>Showing only: <code>normalized_confusion_matrix</code></p>\n",
       "                \n",
       "            </div>\n",
       "\n",
       "            "
      ],
      "text/plain": [
       "<IPython.core.display.HTML object>"
      ]
     },
     "metadata": {},
     "output_type": "display_data"
    },
    {
     "data": {
      "application/vnd.jupyter.widget-view+json": {
       "model_id": "be6a9c4ecb5741bdace2b0be4d3f5992",
       "version_major": 2,
       "version_minor": 0
      },
      "text/plain": [
       "HTML(value='<style  type=\"text/css\" >\\n    #T_73a47fc4_de65_11ea_8715_857745a7dc49  {\\n          text-align: r…"
      ]
     },
     "metadata": {},
     "output_type": "display_data"
    },
    {
     "data": {
      "application/vnd.jupyter.widget-view+json": {
       "model_id": "b51d276d0d6d41558c092594b2e5b0ab",
       "version_major": 2,
       "version_minor": 0
      },
      "text/plain": [
       "HTML(value='<style  type=\"text/css\" >\\n    #T_73adc4b2_de65_11ea_8715_857745a7dc49  {\\n          text-align: r…"
      ]
     },
     "metadata": {},
     "output_type": "display_data"
    },
    {
     "data": {
      "text/plain": []
     },
     "execution_count": 14,
     "metadata": {},
     "output_type": "execute_result"
    },
    {
     "data": {
      "image/png": "[encoded data removed]",
      "text/plain": [
       "<Figure size 2592x72 with 1 Axes>"
      ]
     },
     "metadata": {},
     "output_type": "display_data"
    },
    {
     "data": {
      "image/png": "[encoded data removed]",
      "text/plain": [
       "<Figure size 1440x576 with 2 Axes>"
      ]
     },
     "metadata": {},
     "output_type": "display_data"
    }
   ],
   "source": [
    "from ads.evaluations.evaluator import ADSEvaluator\n",
    "\n",
    "evaluator = ADSEvaluator(test, models=[automl_xgb, baseline], training_data=train)\n",
    "evaluator.show_in_notebook(plots=['normalized_confusion_matrix'])\n",
    "evaluator.metrics"
   ]
  },
  {
   "cell_type": "markdown",
   "metadata": {},
   "source": [
    "<a id='Sklearn'></a>\n",
    "## Build a ML Model Using Scikit-learn"
   ]
  },
  {
   "cell_type": "markdown",
   "metadata": {},
   "source": [
    "### Loading Necessary Libraries And Datasets"
   ]
  },
  {
   "cell_type": "code",
   "execution_count": 15,
   "metadata": {},
   "outputs": [],
   "source": [
    "import pandas as pd\n",
    "import sklearn \n",
    "import numpy as np\n",
    "\n",
    "train = pd.read_csv('trainDataset.csv')\n",
    "test = pd.read_csv('testDataset.csv')"
   ]
  },
  {
   "cell_type": "markdown",
   "metadata": {},
   "source": [
    "### Data Exploration and Cleaning"
   ]
  },
  {
   "cell_type": "code",
   "execution_count": 16,
   "metadata": {},
   "outputs": [
    {
     "data": {
      "text/html": [
       "<div>\n",
       "<style scoped>\n",
       "    .dataframe tbody tr th:only-of-type {\n",
       "        vertical-align: middle;\n",
       "    }\n",
       "\n",
       "    .dataframe tbody tr th {\n",
       "        vertical-align: top;\n",
       "    }\n",
       "\n",
       "    .dataframe thead th {\n",
       "        text-align: right;\n",
       "    }\n",
       "</style>\n",
       "<table border=\"1\" class=\"dataframe\">\n",
       "  <thead>\n",
       "    <tr style=\"text-align: right;\">\n",
       "      <th></th>\n",
       "      <th>Unnamed: 0</th>\n",
       "      <th>amount</th>\n",
       "      <th>latitude</th>\n",
       "      <th>longitude</th>\n",
       "      <th>transactionTimeStamp</th>\n",
       "      <th>CUSTOMER_ID</th>\n",
       "      <th>isCardPresent_true</th>\n",
       "      <th>merchantId_ChIJ-62dDRvGxokRSKE56Gje7SA</th>\n",
       "      <th>merchantId_ChIJ2ewYHlRYwokRfGm7d2DTg-U</th>\n",
       "      <th>merchantId_ChIJ36UlOPrPxokRKM7GxJatIBA</th>\n",
       "      <th>...</th>\n",
       "      <th>CUSTOMER_VALUE_SEGMENT_Gold</th>\n",
       "      <th>CUSTOMER_VALUE_SEGMENT_Silver</th>\n",
       "      <th>CUSTOMER_DMG_SEGMENT_Segment1</th>\n",
       "      <th>CUSTOMER_DMG_SEGMENT_Segment2</th>\n",
       "      <th>CUSTOMER_DMG_SEGMENT_Segment3</th>\n",
       "      <th>CUSTOMER_DMG_SEGMENT_Segment4</th>\n",
       "      <th>CUSTOMER_DMG_SEGMENT_Segment5</th>\n",
       "      <th>CREDIT_SCORE_BIN_Good Credit</th>\n",
       "      <th>CREDIT_SCORE_BIN_Other Credit</th>\n",
       "      <th>fraudFlag</th>\n",
       "    </tr>\n",
       "  </thead>\n",
       "  <tbody>\n",
       "    <tr>\n",
       "      <th>0</th>\n",
       "      <td>162521</td>\n",
       "      <td>266.0</td>\n",
       "      <td>40.855565</td>\n",
       "      <td>-73.929398</td>\n",
       "      <td>1549808379</td>\n",
       "      <td>73084</td>\n",
       "      <td>1</td>\n",
       "      <td>0</td>\n",
       "      <td>0</td>\n",
       "      <td>0</td>\n",
       "      <td>...</td>\n",
       "      <td>0</td>\n",
       "      <td>1</td>\n",
       "      <td>0</td>\n",
       "      <td>0</td>\n",
       "      <td>1</td>\n",
       "      <td>0</td>\n",
       "      <td>0</td>\n",
       "      <td>0</td>\n",
       "      <td>1</td>\n",
       "      <td>False</td>\n",
       "    </tr>\n",
       "    <tr>\n",
       "      <th>1</th>\n",
       "      <td>11869</td>\n",
       "      <td>35.0</td>\n",
       "      <td>39.914424</td>\n",
       "      <td>-75.173187</td>\n",
       "      <td>1549085851</td>\n",
       "      <td>49519</td>\n",
       "      <td>1</td>\n",
       "      <td>0</td>\n",
       "      <td>0</td>\n",
       "      <td>0</td>\n",
       "      <td>...</td>\n",
       "      <td>0</td>\n",
       "      <td>1</td>\n",
       "      <td>0</td>\n",
       "      <td>1</td>\n",
       "      <td>0</td>\n",
       "      <td>0</td>\n",
       "      <td>0</td>\n",
       "      <td>1</td>\n",
       "      <td>0</td>\n",
       "      <td>False</td>\n",
       "    </tr>\n",
       "    <tr>\n",
       "      <th>2</th>\n",
       "      <td>159386</td>\n",
       "      <td>251.0</td>\n",
       "      <td>40.709438</td>\n",
       "      <td>-73.797467</td>\n",
       "      <td>1549046485</td>\n",
       "      <td>25106</td>\n",
       "      <td>1</td>\n",
       "      <td>0</td>\n",
       "      <td>0</td>\n",
       "      <td>0</td>\n",
       "      <td>...</td>\n",
       "      <td>0</td>\n",
       "      <td>1</td>\n",
       "      <td>0</td>\n",
       "      <td>1</td>\n",
       "      <td>0</td>\n",
       "      <td>0</td>\n",
       "      <td>0</td>\n",
       "      <td>1</td>\n",
       "      <td>0</td>\n",
       "      <td>False</td>\n",
       "    </tr>\n",
       "    <tr>\n",
       "      <th>3</th>\n",
       "      <td>166874</td>\n",
       "      <td>2002.0</td>\n",
       "      <td>40.749033</td>\n",
       "      <td>-73.986472</td>\n",
       "      <td>1550866087</td>\n",
       "      <td>40512</td>\n",
       "      <td>1</td>\n",
       "      <td>0</td>\n",
       "      <td>0</td>\n",
       "      <td>0</td>\n",
       "      <td>...</td>\n",
       "      <td>1</td>\n",
       "      <td>0</td>\n",
       "      <td>1</td>\n",
       "      <td>0</td>\n",
       "      <td>0</td>\n",
       "      <td>0</td>\n",
       "      <td>0</td>\n",
       "      <td>1</td>\n",
       "      <td>0</td>\n",
       "      <td>False</td>\n",
       "    </tr>\n",
       "    <tr>\n",
       "      <th>4</th>\n",
       "      <td>20564</td>\n",
       "      <td>42.0</td>\n",
       "      <td>40.067832</td>\n",
       "      <td>-74.854028</td>\n",
       "      <td>1551199486</td>\n",
       "      <td>59548</td>\n",
       "      <td>1</td>\n",
       "      <td>0</td>\n",
       "      <td>0</td>\n",
       "      <td>0</td>\n",
       "      <td>...</td>\n",
       "      <td>0</td>\n",
       "      <td>0</td>\n",
       "      <td>0</td>\n",
       "      <td>0</td>\n",
       "      <td>0</td>\n",
       "      <td>1</td>\n",
       "      <td>0</td>\n",
       "      <td>0</td>\n",
       "      <td>1</td>\n",
       "      <td>False</td>\n",
       "    </tr>\n",
       "  </tbody>\n",
       "</table>\n",
       "<p>5 rows × 156 columns</p>\n",
       "</div>"
      ],
      "text/plain": [
       "   Unnamed: 0  amount   latitude  longitude  transactionTimeStamp  \\\n",
       "0      162521   266.0  40.855565 -73.929398            1549808379   \n",
       "1       11869    35.0  39.914424 -75.173187            1549085851   \n",
       "2      159386   251.0  40.709438 -73.797467            1549046485   \n",
       "3      166874  2002.0  40.749033 -73.986472            1550866087   \n",
       "4       20564    42.0  40.067832 -74.854028            1551199486   \n",
       "\n",
       "   CUSTOMER_ID  isCardPresent_true  merchantId_ChIJ-62dDRvGxokRSKE56Gje7SA  \\\n",
       "0        73084                   1                                       0   \n",
       "1        49519                   1                                       0   \n",
       "2        25106                   1                                       0   \n",
       "3        40512                   1                                       0   \n",
       "4        59548                   1                                       0   \n",
       "\n",
       "   merchantId_ChIJ2ewYHlRYwokRfGm7d2DTg-U  \\\n",
       "0                                       0   \n",
       "1                                       0   \n",
       "2                                       0   \n",
       "3                                       0   \n",
       "4                                       0   \n",
       "\n",
       "   merchantId_ChIJ36UlOPrPxokRKM7GxJatIBA  ...  CUSTOMER_VALUE_SEGMENT_Gold  \\\n",
       "0                                       0  ...                            0   \n",
       "1                                       0  ...                            0   \n",
       "2                                       0  ...                            0   \n",
       "3                                       0  ...                            1   \n",
       "4                                       0  ...                            0   \n",
       "\n",
       "   CUSTOMER_VALUE_SEGMENT_Silver  CUSTOMER_DMG_SEGMENT_Segment1  \\\n",
       "0                              1                              0   \n",
       "1                              1                              0   \n",
       "2                              1                              0   \n",
       "3                              0                              1   \n",
       "4                              0                              0   \n",
       "\n",
       "   CUSTOMER_DMG_SEGMENT_Segment2  CUSTOMER_DMG_SEGMENT_Segment3  \\\n",
       "0                              0                              1   \n",
       "1                              1                              0   \n",
       "2                              1                              0   \n",
       "3                              0                              0   \n",
       "4                              0                              0   \n",
       "\n",
       "   CUSTOMER_DMG_SEGMENT_Segment4  CUSTOMER_DMG_SEGMENT_Segment5  \\\n",
       "0                              0                              0   \n",
       "1                              0                              0   \n",
       "2                              0                              0   \n",
       "3                              0                              0   \n",
       "4                              1                              0   \n",
       "\n",
       "   CREDIT_SCORE_BIN_Good Credit  CREDIT_SCORE_BIN_Other Credit  fraudFlag  \n",
       "0                             0                              1      False  \n",
       "1                             1                              0      False  \n",
       "2                             1                              0      False  \n",
       "3                             1                              0      False  \n",
       "4                             0                              1      False  \n",
       "\n",
       "[5 rows x 156 columns]"
      ]
     },
     "execution_count": 16,
     "metadata": {},
     "output_type": "execute_result"
    }
   ],
   "source": [
    "train.head()"
   ]
  },
  {
   "cell_type": "code",
   "execution_count": 17,
   "metadata": {},
   "outputs": [],
   "source": [
    "try:\n",
    "    train.drop('Unnamed: 0', axis = 1, inplace = True)\n",
    "    test.drop('Unnamed: 0', axis = 1, inplace = True)\n",
    "except:\n",
    "    train.dropna(how='any', axis = 0)\n",
    "    test.dropna(how='any', axis =0)\n",
    "    print('the dataset is clean')"
   ]
  },
  {
   "cell_type": "markdown",
   "metadata": {},
   "source": [
    "### Train a Random Forest Model"
   ]
  },
  {
   "cell_type": "code",
   "execution_count": 18,
   "metadata": {},
   "outputs": [
    {
     "data": {
      "text/plain": [
       "True     131721\n",
       "False    131721\n",
       "Name: fraudFlag, dtype: int64"
      ]
     },
     "execution_count": 18,
     "metadata": {},
     "output_type": "execute_result"
    }
   ],
   "source": [
    "X_train = train.drop('fraudFlag', axis = 1)\n",
    "y_train = train['fraudFlag']\n",
    "\n",
    "y_train.value_counts()"
   ]
  },
  {
   "cell_type": "code",
   "execution_count": 19,
   "metadata": {},
   "outputs": [],
   "source": [
    "from sklearn.ensemble import RandomForestClassifier\n",
    "rfc = RandomForestClassifier(n_estimators=100).fit(X_train, y_train)"
   ]
  },
  {
   "cell_type": "markdown",
   "metadata": {},
   "source": [
    "# Visualize the result"
   ]
  },
  {
   "cell_type": "code",
   "execution_count": 20,
   "metadata": {},
   "outputs": [
    {
     "data": {
      "text/plain": [
       "False    43915\n",
       "True       389\n",
       "Name: fraudFlag, dtype: int64"
      ]
     },
     "execution_count": 20,
     "metadata": {},
     "output_type": "execute_result"
    }
   ],
   "source": [
    "X_test = test.drop('fraudFlag', axis = 1)\n",
    "y_test = test['fraudFlag']\n",
    "\n",
    "y_test.value_counts()"
   ]
  },
  {
   "cell_type": "code",
   "execution_count": 21,
   "metadata": {},
   "outputs": [
    {
     "name": "stdout",
     "output_type": "stream",
     "text": [
      "The model used is Random Forest classifier\n",
      "The number of errors is 182\n",
      "The accuracy is 0.9958920187793427\n",
      "The F1-Score is 0.9957031630890235\n"
     ]
    }
   ],
   "source": [
    "# Get predictions and compare to original values\n",
    "\n",
    "y_pred = rfc.predict(X_test)\n",
    "Validation = pd.DataFrame({})\n",
    "\n",
    "# validation --to be input into adw\n",
    "Validation['Original Value'] = y_test\n",
    "Validation['Prediction'] = y_pred\n",
    "Validation.head(10)\n",
    "# Calculate metrics on the model's performance\n",
    "from sklearn.metrics import classification_report, accuracy_score,f1_score\n",
    "print('The model used is Random Forest classifier')\n",
    "n_errors = (y_pred != y_test).sum()\n",
    "print('The number of errors is {}'.format(n_errors))\n",
    "acc= accuracy_score(y_test,y_pred)\n",
    "print('The accuracy is {}'.format(acc))\n",
    "f1= f1_score(y_test,y_pred, average = 'weighted')\n",
    "print('The F1-Score is {}'.format(f1))"
   ]
  },
  {
   "cell_type": "code",
   "execution_count": 22,
   "metadata": {},
   "outputs": [
    {
     "data": {
      "image/png": "[encoded data removed]",
      "text/plain": [
       "<Figure size 1200x1200 with 2 Axes>"
      ]
     },
     "metadata": {},
     "output_type": "display_data"
    }
   ],
   "source": [
    "from sklearn.metrics import confusion_matrix\n",
    "import matplotlib.pyplot as plt\n",
    "import seaborn as sns\n",
    "\n",
    "LABELS = ['Not Fraud', 'Fraud']\n",
    "conf_matrix = confusion_matrix(y_test, y_pred)\n",
    "plt.figure(figsize=(12, 12))\n",
    "sns.heatmap(conf_matrix, xticklabels=LABELS,\n",
    " yticklabels=LABELS, annot=True, fmt='d');\n",
    "plt.title('Confusion matrix')\n",
    "plt.ylabel('True class')\n",
    "plt.xlabel('Predicted class')\n",
    "\n",
    "plt.show()"
   ]
  },
  {
   "cell_type": "markdown",
   "metadata": {},
   "source": [
    "<a id='ModelCatalog'> </a>\n",
    "## Save Models To Model Catalog"
   ]
  },
  {
   "cell_type": "markdown",
   "metadata": {},
   "source": [
    "### Learn more about how to configure this with your instance"
   ]
  },
  {
   "cell_type": "code",
   "execution_count": 23,
   "metadata": {},
   "outputs": [],
   "source": [
    "#navigate to File, then New Launcher, then Notebook Examples, then select model_catalog.ipynb"
   ]
  },
  {
   "cell_type": "markdown",
   "metadata": {},
   "source": [
    "<a id ='ADB'></a>\n",
    "## Create an ADB connection"
   ]
  },
  {
   "cell_type": "code",
   "execution_count": 24,
   "metadata": {},
   "outputs": [
    {
     "name": "stdout",
     "output_type": "stream",
     "text": [
      "env: TNS_ADMIN=\n",
      "env: ADW_SID=\n",
      "env: ADW_USER=\n",
      "env: ADW_PASSWORD=\n",
      "\n",
      "SQL*Plus: Release 19.0.0.0.0 - Production on Fri Aug 14 19:37:57 2020\n",
      "Version 19.3.0.0.0\n",
      "\n",
      "Copyright (c) 1982, 2019, Oracle.  All rights reserved.\n",
      "\n",
      "ERROR:\n",
      "ORA-12162: TNS:net service name is incorrectly specified\n",
      "\n",
      "\n",
      "Enter user-name: Enter password: \n",
      "ERROR:\n",
      "ORA-12162: TNS:net service name is incorrectly specified\n",
      "\n",
      "\n",
      "Enter user-name: "
     ]
    }
   ],
   "source": [
    "#input environment variables here if you have an existing ADW and know your credentials\n",
    "%env TNS_ADMIN=\n",
    "%env ADW_SID=\n",
    "%env ADW_USER=\n",
    "%env ADW_PASSWORD=\n",
    "!echo exit | sqlplus ${ADW_USER}/${ADW_PASSWORD}@${ADW_SID}\n",
    "\n",
    "#%load_ext autoreload\n",
    "#%autoreload 2\n",
    "%reload_ext autoreload\n",
    "\n",
    "import warnings\n",
    "warnings.filterwarnings(\"ignore\", category=DeprecationWarning) \n",
    "\n",
    "import logging\n",
    "import os\n",
    "\n",
    "logging.basicConfig(format='%(levelname)s:%(message)s', level=logging.INFO)\n",
    "\n",
    "uri = 'oracle+cx_oracle://' + os.environ[\"ADW_USER\"] + ':' + os.environ[\"ADW_PASSWORD\"] + '@' + os.environ[\"ADW_SID\"]"
   ]
  },
  {
   "cell_type": "markdown",
   "metadata": {},
   "source": [
    "### Loading data into ADB using sqlalchemy"
   ]
  },
  {
   "cell_type": "code",
   "execution_count": null,
   "metadata": {},
   "outputs": [],
   "source": [
    "#Note: this section will throw an error if you have not configured the earlier code cell block with ADW credentials\n",
    "\n",
    "from sqlalchemy import create_engine\n",
    "\n",
    "engine = create_engine(uri, max_identifier_length=128)\n",
    "\n",
    "# don't need to create table in ADW \n",
    "test.to_sql('rf_prediction', engine, if_exists='replace')"
   ]
  },
  {
   "cell_type": "markdown",
   "metadata": {},
   "source": [
    "### Query data from ADB"
   ]
  },
  {
   "cell_type": "code",
   "execution_count": null,
   "metadata": {},
   "outputs": [],
   "source": [
    "#Note: this section will throw an error if you have not configured the earlier code cell block with ADW credentials\n",
    "\n",
    "f = pd.read_sql(\"SELECT * from RF_PREDICTION\", con=engine)\n",
    "\n",
    "f.head(5)"
   ]
  },
  {
   "cell_type": "markdown",
   "metadata": {},
   "source": [
    "## Consider Deploying your Models with Oracle Functions"
   ]
  },
  {
   "cell_type": "code",
   "execution_count": 27,
   "metadata": {},
   "outputs": [],
   "source": [
    "# Refer to the bonus section for a detailed notebook on how to configure functions to deploy your models"
   ]
  },
  {
   "cell_type": "markdown",
   "metadata": {},
   "source": [
    "<a id='ref'></a>\n",
    "## References\n",
    "Everything stored in the <span style=\"background-color: #d5d8dc \">/home/datascience</span> folder is now stored on your block volume drive. The <span style=\"background-color: #d5d8dc \">ads-examples</span> folder has moved outside of your working space. Notebook examples are now accessible through a Launcher tab \"Notebook Examples\" button.\n",
    "<details>\n",
    "<summary><font size=\"2\">1. Check for Public Internet Access</font></summary>\n",
    "```python\n",
    "import requests\n",
    "response = requests.get(\"https://oracle.com\")\n",
    "assert response.status_code==200, \"Internet connection failed\"\n",
    "```\n",
    "</details>\n",
    "<details>\n",
    "<summary><font size=\"2\">2. OCI Configuration and Key Files Set Up</font></summary><p>Follow the instructions in the getting-started notebook. That notebook is accessible via the \"Getting Started\" Launcher tab button.</p>\n",
    "</details>\n",
    "<details>\n",
    "<summary><font size=\"2\">3. Helpful Documentation </font></summary>\n",
    "<ul><li><a href=\"https://docs.cloud.oracle.com/en-us/iaas/data-science/using/data-science.htm\">Data Science Service Documentation</a></li>\n",
    "<li><a href=\"https://docs.cloud.oracle.com/iaas/tools/ads-sdk/latest/index.html\">ADS documentation</a></li>\n",
    "</ul>\n",
    "</details>\n",
    "<details>\n",
    "<summary><font size=\"2\">4. Typical Cell Imports and Settings</font></summary>\n",
    "\n",
    "```python\n",
    "%load_ext autoreload\n",
    "%autoreload 2\n",
    "%matplotlib inline\n",
    "\n",
    "import warnings\n",
    "warnings.filterwarnings('ignore')\n",
    "\n",
    "import logging\n",
    "logging.basicConfig(format='%(levelname)s:%(message)s', level=logging.ERROR)\n",
    "\n",
    "import ads\n",
    "from ads.dataset.factory import DatasetFactory\n",
    "from ads.automl.provider import OracleAutoMLProvider\n",
    "from ads.automl.driver import AutoML\n",
    "from ads.evaluations.evaluator import ADSEvaluator\n",
    "from ads.common.data import MLData\n",
    "from ads.explanations.explainer import ADSExplainer\n",
    "from ads.explanations.mlx_global_explainer import MLXGlobalExplainer\n",
    "from ads.explanations.mlx_local_explainer import MLXLocalExplainer\n",
    "from ads.catalog.model import ModelCatalog\n",
    "from ads.common.model_artifact import ModelArtifact\n",
    "```\n",
    "</details>\n",
    "<details>\n",
    "<summary><font size=\"2\">5. Useful Environment Variables</font></summary>\n",
    "\n",
    "```python\n",
    "import os\n",
    "print(os.environ[\"NB_SESSION_COMPARTMENT_OCID\"])\n",
    "print(os.environ[\"PROJECT_OCID\"])\n",
    "print(os.environ[\"USER_OCID\"])\n",
    "print(os.environ[\"TENANCY_OCID\"])\n",
    "print(os.environ[\"NB_REGION\"])\n",
    "```\n",
    "</details>"
   ]
  },
  {
   "cell_type": "code",
   "execution_count": null,
   "metadata": {},
   "outputs": [],
   "source": []
  }
 ],
 "metadata": {
  "kernelspec": {
   "display_name": "Python 3",
   "language": "python",
   "name": "python3"
  },
  "language_info": {
   "codemirror_mode": {
    "name": "ipython",
    "version": 3
   },
   "file_extension": ".py",
   "mimetype": "text/x-python",
   "name": "python",
   "nbconvert_exporter": "python",
   "pygments_lexer": "ipython3",
   "version": "3.6.10"
  }
 },
 "nbformat": 4,
 "nbformat_minor": 4
}
